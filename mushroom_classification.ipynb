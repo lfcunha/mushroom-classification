{
 "cells": [
  {
   "cell_type": "markdown",
   "metadata": {},
   "source": [
    "## Poisonous Mushroom classifier\n",
    "\n",
    "I used the https://archive.ics.uci.edu/ml/datasets/mushroom dataset to train a classifier to predict if a mushroom is poisonous or edible. Although I describe a decision tree classifier, svm and knn classifiers performed equally well (although svm is visibly slower).\n",
    "\n",
    "\n",
    "*An interestint additional project will be to perform the same classification based in images of these mushrooms, using a convolutional deep neural network.*\n",
    "\n",
    "\n"
   ]
  },
  {
   "cell_type": "code",
   "execution_count": null,
   "metadata": {
    "collapsed": true
   },
   "outputs": [],
   "source": []
  },
  {
   "cell_type": "code",
   "execution_count": 167,
   "metadata": {
    "collapsed": true
   },
   "outputs": [],
   "source": [
    "import operator\n",
    "import pickle\n",
    "\n",
    "#import pydot\n",
    "import pandas as pd\n",
    "from sklearn.tree import DecisionTreeClassifier\n",
    "from sklearn.preprocessing import LabelEncoder\n",
    "from collections import defaultdict\n",
    "from sklearn.model_selection import train_test_split\n",
    "from sklearn.metrics import make_scorer\n",
    "from sklearn.model_selection import GridSearchCV\n",
    "from sklearn.model_selection import ShuffleSplit\n",
    "from sklearn.metrics import r2_score\n",
    "from sklearn.tree import export_graphviz\n",
    "from sklearn import metrics\n",
    "from sklearn.externals.six import StringIO"
   ]
  },
  {
   "cell_type": "code",
   "execution_count": 168,
   "metadata": {
    "collapsed": false
   },
   "outputs": [],
   "source": [
    "# read data from remote file\n",
    "data_url = 'https://s3.amazonaws.com/lfcunha-files/data.csv'\n",
    "data = pd.read_csv(data_url)"
   ]
  },
  {
   "cell_type": "code",
   "execution_count": 204,
   "metadata": {
    "collapsed": false
   },
   "outputs": [
    {
     "data": {
      "text/html": [
       "<div>\n",
       "<style>\n",
       "    .dataframe thead tr:only-child th {\n",
       "        text-align: right;\n",
       "    }\n",
       "\n",
       "    .dataframe thead th {\n",
       "        text-align: left;\n",
       "    }\n",
       "\n",
       "    .dataframe tbody tr th {\n",
       "        vertical-align: top;\n",
       "    }\n",
       "</style>\n",
       "<table border=\"1\" class=\"dataframe\">\n",
       "  <thead>\n",
       "    <tr style=\"text-align: right;\">\n",
       "      <th></th>\n",
       "      <th>edible</th>\n",
       "      <th>cap-shape</th>\n",
       "      <th>cap-surface</th>\n",
       "      <th>cap-color</th>\n",
       "      <th>bruises</th>\n",
       "      <th>odor</th>\n",
       "      <th>gill-attachment</th>\n",
       "      <th>gill-spacing</th>\n",
       "      <th>gill-size</th>\n",
       "      <th>gill-color</th>\n",
       "      <th>...</th>\n",
       "      <th>stalk-surface-below-ring</th>\n",
       "      <th>stalk-color-above-ring</th>\n",
       "      <th>stalk-color-below-ring</th>\n",
       "      <th>veil-type</th>\n",
       "      <th>veil-color</th>\n",
       "      <th>ring-number</th>\n",
       "      <th>ring-type</th>\n",
       "      <th>spore-print-color</th>\n",
       "      <th>population</th>\n",
       "      <th>habitat</th>\n",
       "    </tr>\n",
       "  </thead>\n",
       "  <tbody>\n",
       "    <tr>\n",
       "      <th>0</th>\n",
       "      <td>EDIBLE</td>\n",
       "      <td>CONVEX</td>\n",
       "      <td>SMOOTH</td>\n",
       "      <td>WHITE</td>\n",
       "      <td>BRUISES</td>\n",
       "      <td>ALMOND</td>\n",
       "      <td>FREE</td>\n",
       "      <td>CROWDED</td>\n",
       "      <td>NARROW</td>\n",
       "      <td>WHITE</td>\n",
       "      <td>...</td>\n",
       "      <td>SMOOTH</td>\n",
       "      <td>WHITE</td>\n",
       "      <td>WHITE</td>\n",
       "      <td>PARTIAL</td>\n",
       "      <td>WHITE</td>\n",
       "      <td>ONE</td>\n",
       "      <td>PENDANT</td>\n",
       "      <td>PURPLE</td>\n",
       "      <td>SEVERAL</td>\n",
       "      <td>WOODS</td>\n",
       "    </tr>\n",
       "    <tr>\n",
       "      <th>1</th>\n",
       "      <td>EDIBLE</td>\n",
       "      <td>CONVEX</td>\n",
       "      <td>SMOOTH</td>\n",
       "      <td>WHITE</td>\n",
       "      <td>BRUISES</td>\n",
       "      <td>ALMOND</td>\n",
       "      <td>FREE</td>\n",
       "      <td>CROWDED</td>\n",
       "      <td>NARROW</td>\n",
       "      <td>WHITE</td>\n",
       "      <td>...</td>\n",
       "      <td>SMOOTH</td>\n",
       "      <td>WHITE</td>\n",
       "      <td>WHITE</td>\n",
       "      <td>PARTIAL</td>\n",
       "      <td>WHITE</td>\n",
       "      <td>ONE</td>\n",
       "      <td>PENDANT</td>\n",
       "      <td>BROWN</td>\n",
       "      <td>SEVERAL</td>\n",
       "      <td>WOODS</td>\n",
       "    </tr>\n",
       "    <tr>\n",
       "      <th>2</th>\n",
       "      <td>EDIBLE</td>\n",
       "      <td>CONVEX</td>\n",
       "      <td>SMOOTH</td>\n",
       "      <td>WHITE</td>\n",
       "      <td>BRUISES</td>\n",
       "      <td>ALMOND</td>\n",
       "      <td>FREE</td>\n",
       "      <td>CROWDED</td>\n",
       "      <td>NARROW</td>\n",
       "      <td>PINK</td>\n",
       "      <td>...</td>\n",
       "      <td>SMOOTH</td>\n",
       "      <td>WHITE</td>\n",
       "      <td>WHITE</td>\n",
       "      <td>PARTIAL</td>\n",
       "      <td>WHITE</td>\n",
       "      <td>ONE</td>\n",
       "      <td>PENDANT</td>\n",
       "      <td>PURPLE</td>\n",
       "      <td>SEVERAL</td>\n",
       "      <td>WOODS</td>\n",
       "    </tr>\n",
       "    <tr>\n",
       "      <th>3</th>\n",
       "      <td>EDIBLE</td>\n",
       "      <td>CONVEX</td>\n",
       "      <td>SMOOTH</td>\n",
       "      <td>WHITE</td>\n",
       "      <td>BRUISES</td>\n",
       "      <td>ALMOND</td>\n",
       "      <td>FREE</td>\n",
       "      <td>CROWDED</td>\n",
       "      <td>NARROW</td>\n",
       "      <td>PINK</td>\n",
       "      <td>...</td>\n",
       "      <td>SMOOTH</td>\n",
       "      <td>WHITE</td>\n",
       "      <td>WHITE</td>\n",
       "      <td>PARTIAL</td>\n",
       "      <td>WHITE</td>\n",
       "      <td>ONE</td>\n",
       "      <td>PENDANT</td>\n",
       "      <td>BROWN</td>\n",
       "      <td>SEVERAL</td>\n",
       "      <td>WOODS</td>\n",
       "    </tr>\n",
       "    <tr>\n",
       "      <th>4</th>\n",
       "      <td>EDIBLE</td>\n",
       "      <td>CONVEX</td>\n",
       "      <td>SMOOTH</td>\n",
       "      <td>WHITE</td>\n",
       "      <td>BRUISES</td>\n",
       "      <td>ALMOND</td>\n",
       "      <td>FREE</td>\n",
       "      <td>CROWDED</td>\n",
       "      <td>NARROW</td>\n",
       "      <td>BROWN</td>\n",
       "      <td>...</td>\n",
       "      <td>SMOOTH</td>\n",
       "      <td>WHITE</td>\n",
       "      <td>WHITE</td>\n",
       "      <td>PARTIAL</td>\n",
       "      <td>WHITE</td>\n",
       "      <td>ONE</td>\n",
       "      <td>PENDANT</td>\n",
       "      <td>PURPLE</td>\n",
       "      <td>SEVERAL</td>\n",
       "      <td>WOODS</td>\n",
       "    </tr>\n",
       "  </tbody>\n",
       "</table>\n",
       "<p>5 rows × 23 columns</p>\n",
       "</div>"
      ],
      "text/plain": [
       "   edible cap-shape cap-surface cap-color  bruises    odor gill-attachment  \\\n",
       "0  EDIBLE    CONVEX      SMOOTH     WHITE  BRUISES  ALMOND            FREE   \n",
       "1  EDIBLE    CONVEX      SMOOTH     WHITE  BRUISES  ALMOND            FREE   \n",
       "2  EDIBLE    CONVEX      SMOOTH     WHITE  BRUISES  ALMOND            FREE   \n",
       "3  EDIBLE    CONVEX      SMOOTH     WHITE  BRUISES  ALMOND            FREE   \n",
       "4  EDIBLE    CONVEX      SMOOTH     WHITE  BRUISES  ALMOND            FREE   \n",
       "\n",
       "  gill-spacing gill-size gill-color   ...   stalk-surface-below-ring  \\\n",
       "0      CROWDED    NARROW      WHITE   ...                     SMOOTH   \n",
       "1      CROWDED    NARROW      WHITE   ...                     SMOOTH   \n",
       "2      CROWDED    NARROW       PINK   ...                     SMOOTH   \n",
       "3      CROWDED    NARROW       PINK   ...                     SMOOTH   \n",
       "4      CROWDED    NARROW      BROWN   ...                     SMOOTH   \n",
       "\n",
       "  stalk-color-above-ring stalk-color-below-ring veil-type veil-color  \\\n",
       "0                  WHITE                  WHITE   PARTIAL      WHITE   \n",
       "1                  WHITE                  WHITE   PARTIAL      WHITE   \n",
       "2                  WHITE                  WHITE   PARTIAL      WHITE   \n",
       "3                  WHITE                  WHITE   PARTIAL      WHITE   \n",
       "4                  WHITE                  WHITE   PARTIAL      WHITE   \n",
       "\n",
       "   ring-number ring-type spore-print-color population habitat  \n",
       "0          ONE   PENDANT            PURPLE    SEVERAL   WOODS  \n",
       "1          ONE   PENDANT             BROWN    SEVERAL   WOODS  \n",
       "2          ONE   PENDANT            PURPLE    SEVERAL   WOODS  \n",
       "3          ONE   PENDANT             BROWN    SEVERAL   WOODS  \n",
       "4          ONE   PENDANT            PURPLE    SEVERAL   WOODS  \n",
       "\n",
       "[5 rows x 23 columns]"
      ]
     },
     "execution_count": 204,
     "metadata": {},
     "output_type": "execute_result"
    }
   ],
   "source": [
    "data.head()"
   ]
  },
  {
   "cell_type": "code",
   "execution_count": 169,
   "metadata": {
    "collapsed": false
   },
   "outputs": [
    {
     "name": "stdout",
     "output_type": "stream",
     "text": [
      "edible: POISONOUS, EDIBLE\n",
      "\n",
      "Number of Edible examples: : 4488\n",
      "Number of POISONOUS examples: : 3928\n",
      "\n"
     ]
    }
   ],
   "source": [
    "#Labels\n",
    "\n",
    "print(\"{}: {}\\n\".format(\"edible\", \", \".join(list(set(data['edible'])))))\n",
    "print(\"{}: {}\".format(\"Number of Edible examples: \", len(data[data['edible'].str.contains(\"EDIBLE\")])))\n",
    "print(\"{}: {}\\n\".format(\"Number of POISONOUS examples: \", len(data[data['edible'].str.contains(\"POISONOUS\")])))"
   ]
  },
  {
   "cell_type": "code",
   "execution_count": 170,
   "metadata": {
    "collapsed": false
   },
   "outputs": [
    {
     "name": "stdout",
     "output_type": "stream",
     "text": [
      "cap-shape: FLAT, SUNKEN, BELL, KNOBBED, CONVEX, CONICAL\n",
      "cap-surface: FIBROUS, GROOVES, SMOOTH, SCALY\n",
      "cap-color: PINK, BROWN, GRAY, PURPLE, YELLOW, GREEN, CINNAMON, WHITE, RED, BUFF\n",
      "bruises: BRUISES, NO\n",
      "odor: NONE, ANISE, ALMOND, PUNGENT, MUSTY, FOUL, SPICY, FISHY, CREOSOTE\n",
      "gill-attachment: ATTACHED, FREE\n",
      "gill-spacing: CLOSE, CROWDED\n",
      "gill-size: BROAD, NARROW\n",
      "gill-color: PINK, BROWN, GRAY, PURPLE, YELLOW, CHOCOLATE, BLACK, ORANGE, GREEN, WHITE, RED, BUFF\n",
      "stalk-shape: ENLARGING, TAPERING\n",
      "stalk-root: CLUB, BULBOUS, ROOTED, ?, EQUAL\n",
      "stalk-surface-above-ring: FIBROUS, SCALY, SMOOTH, SILKY\n",
      "stalk-surface-below-ring: FIBROUS, SMOOTH, SILKY, SCALY\n",
      "stalk-color-above-ring: PINK, GRAY, BROWN, YELLOW, CINNAMON, ORANGE, WHITE, RED, BUFF\n",
      "stalk-color-below-ring: PINK, GRAY, BROWN, YELLOW, CINNAMON, ORANGE, WHITE, RED, BUFF\n",
      "veil-type: PARTIAL\n",
      "veil-color: ORANGE, BROWN, WHITE, YELLOW\n",
      " ring-number: NONE, TWO, ONE\n",
      "ring-type: LARGE, FLARING, EVANESCENT, PENDANT, NONE\n",
      "spore-print-color: BROWN, PURPLE, YELLOW, CHOCOLATE, GREEN, ORANGE, BLACK, WHITE, BUFF\n",
      "population: SOLITARY, ABUNDANT, SCATTERED, CLUSTERED, SEVERAL, NUMEROUS\n",
      "habitat: URBAN, PATHS, GRASSES, LEAVES, WOODS, WASTE, MEADOWS\n"
     ]
    }
   ],
   "source": [
    "#Features\n",
    "\n",
    "for x in data:\n",
    "    if x == \"edible\": continue\n",
    "    print(\"{}: {}\".format(x, \", \".join(list(set(data[x])))))"
   ]
  },
  {
   "cell_type": "code",
   "execution_count": 195,
   "metadata": {
    "collapsed": false
   },
   "outputs": [
    {
     "name": "stdout",
     "output_type": "stream",
     "text": [
      "                         count unique       top  freq\n",
      "edible                    8416      2    EDIBLE  4488\n",
      "cap-shape                 8416      6    CONVEX  3796\n",
      "cap-surface               8416      4     SCALY  3268\n",
      "cap-color                 8416     10     BROWN  2320\n",
      "bruises                   8416      2        NO  5040\n",
      "odor                      8416      9      NONE  3808\n",
      "gill-attachment           8416      2      FREE  8200\n",
      "gill-spacing              8416      2     CLOSE  6824\n",
      "gill-size                 8416      2     BROAD  5880\n",
      "gill-color                8416     12      BUFF  1728\n",
      "stalk-shape               8416      2  TAPERING  4864\n",
      "stalk-root                8416      5   BULBOUS  3800\n",
      "stalk-surface-above-ring  8416      4    SMOOTH  5316\n",
      "stalk-surface-below-ring  8416      4    SMOOTH  5076\n",
      "stalk-color-above-ring    8416      9     WHITE  4744\n",
      "stalk-color-below-ring    8416      9     WHITE  4640\n",
      "veil-type                 8416      1   PARTIAL  8416\n",
      "veil-color                8416      4     WHITE  8216\n",
      " ring-number              8416      3       ONE  7768\n",
      "ring-type                 8416      5   PENDANT  3968\n",
      "spore-print-color         8416      9     WHITE  2424\n",
      "population                8416      6   SEVERAL  4064\n",
      "habitat                   8416      7     WOODS  3160\n"
     ]
    }
   ],
   "source": [
    "\"\"\" Feature distribution \"\"\"\n",
    "\n",
    "print(data.describe().T)"
   ]
  },
  {
   "cell_type": "code",
   "execution_count": 185,
   "metadata": {
    "collapsed": false
   },
   "outputs": [
    {
     "data": {
      "text/plain": [
       "' Later can recover the encodings '"
      ]
     },
     "execution_count": 185,
     "metadata": {},
     "output_type": "execute_result"
    }
   ],
   "source": [
    "\"\"\" Encode labels (categorial data to numerically encoded) \"\"\"\n",
    "\n",
    "\"\"\"general transform\"\"\"\n",
    "#le = LabelEncoder()\n",
    "#data_encoded = data.apply(le.fit_transform)\n",
    "\n",
    "\"\"\"we need a hack to store and recover the encodings\"\"\"\n",
    "encoder = defaultdict(LabelEncoder)\n",
    "data_encoded = data.apply(lambda x: encoder[x.name].fit_transform(x))\n",
    "\n",
    "\n",
    "\"\"\" Later can recover the encodings \"\"\"\n",
    "## Invert the encoded\n",
    "#data_encoded.apply(lambda x: encoder[x.name].inverse_transform(x))\n",
    "\n",
    "## Using the dictionary to label future data\n",
    "#df.apply(lambda x: encoder[x.name].transform(x))\n"
   ]
  },
  {
   "cell_type": "code",
   "execution_count": 196,
   "metadata": {
    "collapsed": true
   },
   "outputs": [],
   "source": [
    "\"\"\" fill in any missing data\"\"\"\n",
    "for c in data_encoded.columns:\n",
    "    data_encoded[c]=data_encoded[c].fillna(-1)"
   ]
  },
  {
   "cell_type": "code",
   "execution_count": 201,
   "metadata": {
    "collapsed": false
   },
   "outputs": [
    {
     "name": "stdout",
     "output_type": "stream",
     "text": [
      "                           count      mean       std  min  25%  50%  75%   max\n",
      "edible                    8416.0  0.466730  0.498922  0.0  0.0  0.0  1.0   1.0\n",
      "cap-shape                 8416.0  2.494297  0.892014  0.0  2.0  2.0  3.0   5.0\n",
      "cap-surface               8416.0  1.733840  1.190765  0.0  0.0  2.0  3.0   3.0\n",
      "cap-color                 8416.0  4.264734  3.403228  0.0  0.0  3.0  8.0   9.0\n",
      "bruises                   8416.0  0.598859  0.490159  0.0  0.0  1.0  1.0   1.0\n",
      "odor                      8416.0  4.828897  1.961047  0.0  4.0  6.0  6.0   8.0\n",
      "gill-attachment           8416.0  0.974335  0.158144  0.0  1.0  1.0  1.0   1.0\n",
      "gill-spacing              8416.0  0.189163  0.391662  0.0  0.0  0.0  0.0   1.0\n",
      "gill-size                 8416.0  0.301331  0.458863  0.0  0.0  0.0  1.0   1.0\n",
      "gill-color                8416.0  4.692490  3.353737  0.0  2.0  4.0  7.0  11.0\n",
      "stalk-shape               8416.0  0.577947  0.493916  0.0  0.0  1.0  1.0   1.0\n",
      "stalk-root                8416.0  1.168251  1.092390  0.0  0.0  1.0  2.0   4.0\n",
      "stalk-surface-above-ring  8416.0  2.464354  0.864793  0.0  2.0  3.0  3.0   3.0\n",
      "stalk-surface-below-ring  8416.0  2.392110  0.914532  0.0  2.0  3.0  3.0   3.0\n",
      "stalk-color-above-ring    8416.0  5.493346  2.128817  0.0  5.0  7.0  7.0   8.0\n",
      "stalk-color-below-ring    8416.0  5.422053  2.196872  0.0  5.0  7.0  7.0   8.0\n",
      "veil-type                 8416.0  0.000000  0.000000  0.0  0.0  0.0  0.0   0.0\n",
      "veil-color                8416.0  1.966730  0.238505  0.0  2.0  2.0  2.0   3.0\n",
      " ring-number              8416.0  1.065589  0.269635  0.0  1.0  1.0  1.0   2.0\n",
      "ring-type                 8416.0  2.216730  1.817479  0.0  0.0  2.0  4.0   4.0\n",
      "spore-print-color         8416.0  3.000951  2.824054  0.0  1.0  3.0  7.0   8.0\n",
      "population                8416.0  3.576046  1.314272  0.0  3.0  4.0  4.0   5.0\n",
      "habitat                   8416.0  3.120722  2.552022  0.0  0.0  3.0  6.0   6.0\n"
     ]
    }
   ],
   "source": [
    "\"\"\"Overview the encoded data \"\"\"\n",
    "print(data_encoded.describe().T)\n"
   ]
  },
  {
   "cell_type": "code",
   "execution_count": 202,
   "metadata": {
    "collapsed": false
   },
   "outputs": [
    {
     "data": {
      "text/html": [
       "<div>\n",
       "<style>\n",
       "    .dataframe thead tr:only-child th {\n",
       "        text-align: right;\n",
       "    }\n",
       "\n",
       "    .dataframe thead th {\n",
       "        text-align: left;\n",
       "    }\n",
       "\n",
       "    .dataframe tbody tr th {\n",
       "        vertical-align: top;\n",
       "    }\n",
       "</style>\n",
       "<table border=\"1\" class=\"dataframe\">\n",
       "  <thead>\n",
       "    <tr style=\"text-align: right;\">\n",
       "      <th></th>\n",
       "      <th>edible</th>\n",
       "      <th>cap-shape</th>\n",
       "      <th>cap-surface</th>\n",
       "      <th>cap-color</th>\n",
       "      <th>bruises</th>\n",
       "      <th>odor</th>\n",
       "      <th>gill-attachment</th>\n",
       "      <th>gill-spacing</th>\n",
       "      <th>gill-size</th>\n",
       "      <th>gill-color</th>\n",
       "      <th>...</th>\n",
       "      <th>stalk-surface-below-ring</th>\n",
       "      <th>stalk-color-above-ring</th>\n",
       "      <th>stalk-color-below-ring</th>\n",
       "      <th>veil-type</th>\n",
       "      <th>veil-color</th>\n",
       "      <th>ring-number</th>\n",
       "      <th>ring-type</th>\n",
       "      <th>spore-print-color</th>\n",
       "      <th>population</th>\n",
       "      <th>habitat</th>\n",
       "    </tr>\n",
       "  </thead>\n",
       "  <tbody>\n",
       "    <tr>\n",
       "      <th>0</th>\n",
       "      <td>0</td>\n",
       "      <td>2</td>\n",
       "      <td>3</td>\n",
       "      <td>8</td>\n",
       "      <td>0</td>\n",
       "      <td>0</td>\n",
       "      <td>1</td>\n",
       "      <td>1</td>\n",
       "      <td>1</td>\n",
       "      <td>10</td>\n",
       "      <td>...</td>\n",
       "      <td>3</td>\n",
       "      <td>7</td>\n",
       "      <td>7</td>\n",
       "      <td>0</td>\n",
       "      <td>2</td>\n",
       "      <td>1</td>\n",
       "      <td>4</td>\n",
       "      <td>6</td>\n",
       "      <td>4</td>\n",
       "      <td>6</td>\n",
       "    </tr>\n",
       "    <tr>\n",
       "      <th>1</th>\n",
       "      <td>0</td>\n",
       "      <td>2</td>\n",
       "      <td>3</td>\n",
       "      <td>8</td>\n",
       "      <td>0</td>\n",
       "      <td>0</td>\n",
       "      <td>1</td>\n",
       "      <td>1</td>\n",
       "      <td>1</td>\n",
       "      <td>10</td>\n",
       "      <td>...</td>\n",
       "      <td>3</td>\n",
       "      <td>7</td>\n",
       "      <td>7</td>\n",
       "      <td>0</td>\n",
       "      <td>2</td>\n",
       "      <td>1</td>\n",
       "      <td>4</td>\n",
       "      <td>1</td>\n",
       "      <td>4</td>\n",
       "      <td>6</td>\n",
       "    </tr>\n",
       "    <tr>\n",
       "      <th>2</th>\n",
       "      <td>0</td>\n",
       "      <td>2</td>\n",
       "      <td>3</td>\n",
       "      <td>8</td>\n",
       "      <td>0</td>\n",
       "      <td>0</td>\n",
       "      <td>1</td>\n",
       "      <td>1</td>\n",
       "      <td>1</td>\n",
       "      <td>7</td>\n",
       "      <td>...</td>\n",
       "      <td>3</td>\n",
       "      <td>7</td>\n",
       "      <td>7</td>\n",
       "      <td>0</td>\n",
       "      <td>2</td>\n",
       "      <td>1</td>\n",
       "      <td>4</td>\n",
       "      <td>6</td>\n",
       "      <td>4</td>\n",
       "      <td>6</td>\n",
       "    </tr>\n",
       "    <tr>\n",
       "      <th>3</th>\n",
       "      <td>0</td>\n",
       "      <td>2</td>\n",
       "      <td>3</td>\n",
       "      <td>8</td>\n",
       "      <td>0</td>\n",
       "      <td>0</td>\n",
       "      <td>1</td>\n",
       "      <td>1</td>\n",
       "      <td>1</td>\n",
       "      <td>7</td>\n",
       "      <td>...</td>\n",
       "      <td>3</td>\n",
       "      <td>7</td>\n",
       "      <td>7</td>\n",
       "      <td>0</td>\n",
       "      <td>2</td>\n",
       "      <td>1</td>\n",
       "      <td>4</td>\n",
       "      <td>1</td>\n",
       "      <td>4</td>\n",
       "      <td>6</td>\n",
       "    </tr>\n",
       "    <tr>\n",
       "      <th>4</th>\n",
       "      <td>0</td>\n",
       "      <td>2</td>\n",
       "      <td>3</td>\n",
       "      <td>8</td>\n",
       "      <td>0</td>\n",
       "      <td>0</td>\n",
       "      <td>1</td>\n",
       "      <td>1</td>\n",
       "      <td>1</td>\n",
       "      <td>1</td>\n",
       "      <td>...</td>\n",
       "      <td>3</td>\n",
       "      <td>7</td>\n",
       "      <td>7</td>\n",
       "      <td>0</td>\n",
       "      <td>2</td>\n",
       "      <td>1</td>\n",
       "      <td>4</td>\n",
       "      <td>6</td>\n",
       "      <td>4</td>\n",
       "      <td>6</td>\n",
       "    </tr>\n",
       "  </tbody>\n",
       "</table>\n",
       "<p>5 rows × 23 columns</p>\n",
       "</div>"
      ],
      "text/plain": [
       "   edible  cap-shape  cap-surface  cap-color  bruises  odor  gill-attachment  \\\n",
       "0       0          2            3          8        0     0                1   \n",
       "1       0          2            3          8        0     0                1   \n",
       "2       0          2            3          8        0     0                1   \n",
       "3       0          2            3          8        0     0                1   \n",
       "4       0          2            3          8        0     0                1   \n",
       "\n",
       "   gill-spacing  gill-size  gill-color   ...     stalk-surface-below-ring  \\\n",
       "0             1          1          10   ...                            3   \n",
       "1             1          1          10   ...                            3   \n",
       "2             1          1           7   ...                            3   \n",
       "3             1          1           7   ...                            3   \n",
       "4             1          1           1   ...                            3   \n",
       "\n",
       "   stalk-color-above-ring  stalk-color-below-ring  veil-type  veil-color  \\\n",
       "0                       7                       7          0           2   \n",
       "1                       7                       7          0           2   \n",
       "2                       7                       7          0           2   \n",
       "3                       7                       7          0           2   \n",
       "4                       7                       7          0           2   \n",
       "\n",
       "    ring-number  ring-type  spore-print-color  population  habitat  \n",
       "0             1          4                  6           4        6  \n",
       "1             1          4                  1           4        6  \n",
       "2             1          4                  6           4        6  \n",
       "3             1          4                  1           4        6  \n",
       "4             1          4                  6           4        6  \n",
       "\n",
       "[5 rows x 23 columns]"
      ]
     },
     "execution_count": 202,
     "metadata": {},
     "output_type": "execute_result"
    }
   ],
   "source": [
    "data_encoded.head()"
   ]
  },
  {
   "cell_type": "code",
   "execution_count": 174,
   "metadata": {
    "collapsed": false
   },
   "outputs": [],
   "source": [
    "# split the data into train and test sets\n",
    "X_train, X_test, y_train, y_test = train_test_split(data_encoded.iloc[:, 1:], data_encoded.iloc[:,0], test_size=0.20, random_state=1)"
   ]
  },
  {
   "cell_type": "code",
   "execution_count": 186,
   "metadata": {
    "collapsed": false
   },
   "outputs": [
    {
     "name": "stdout",
     "output_type": "stream",
     "text": [
      "number of edible examples in test set: 823\n",
      "number of poisonous examples in test set: 861\n"
     ]
    }
   ],
   "source": [
    "n_edible = reduce(lambda a, b: a+b, y_test)\n",
    "print(\"{}: {}\".format(\"number of edible examples in test set\", n_edible))\n",
    "print(\"{}: {}\".format(\"number of poisonous examples in test set\", len(y_test)-n_edible))"
   ]
  },
  {
   "cell_type": "code",
   "execution_count": 187,
   "metadata": {
    "collapsed": true
   },
   "outputs": [],
   "source": [
    "def performance_metric(y_true, y_predict):\n",
    "    \"\"\" Calculates and returns the performance score between\n",
    "        true and predicted values based on the metric chosen. \"\"\"\n",
    "\n",
    "    # Calculate the performance score between 'y_true' and 'y_predict'\n",
    "    return r2_score(y_true, y_predict)"
   ]
  },
  {
   "cell_type": "code",
   "execution_count": 177,
   "metadata": {
    "collapsed": true
   },
   "outputs": [],
   "source": [
    "def fit_model(X, y):\n",
    "    \"\"\"Grid search for the best tree depth\n",
    "    \"\"\"\n",
    "    # Create cross-validation sets from the training data\n",
    "    rs = ShuffleSplit(n_splits=10, test_size=0.20, random_state=0)\n",
    "    cv_sets = rs.get_n_splits(X)\n",
    "\n",
    "    # Create a decision tree classifier object\n",
    "    classifier = DecisionTreeClassifier(random_state=0)\n",
    "    \n",
    "    # Create a dictionary for the parameter 'max_depth' with a range from 1 to 10\n",
    "    params = {\"max_depth\": range(1, 11)}\n",
    "    \n",
    "    # Transform 'performance_metric' into a scoring function using 'make_scorer' \n",
    "    scoring_fnc = make_scorer(performance_metric)\n",
    "\n",
    "    # Create the grid search cv object --> GridSearchCV()\n",
    "    grid = GridSearchCV(classifier, param_grid=params, scoring=scoring_fnc, cv=cv_sets)\n",
    "    \n",
    "    # Fit the grid search object to the data to compute the optimal model\n",
    "    grid = grid.fit(X, y)\n",
    "    print(pd.DataFrame(grid.cv_results_))\n",
    "    \n",
    "    # Return the optimal model after fitting the data\n",
    "    return grid.best_estimator_"
   ]
  },
  {
   "cell_type": "code",
   "execution_count": 178,
   "metadata": {
    "collapsed": false
   },
   "outputs": [
    {
     "name": "stdout",
     "output_type": "stream",
     "text": [
      "   mean_fit_time  mean_score_time  mean_test_score  mean_train_score  \\\n",
      "0       0.003511         0.000540         0.399834          0.399837   \n",
      "1       0.004806         0.000611         0.758502          0.758500   \n",
      "2       0.006659         0.000681         0.855937          0.870151   \n",
      "3       0.005768         0.000686         0.961743          0.959949   \n",
      "4       0.006290         0.000599         0.971308          0.970775   \n",
      "5       0.005733         0.000537         0.995816          0.995284   \n",
      "6       0.005603         0.000589         1.000000          1.000000   \n",
      "7       0.005580         0.000493         1.000000          1.000000   \n",
      "8       0.005390         0.000459         1.000000          1.000000   \n",
      "9       0.005617         0.002011         1.000000          1.000000   \n",
      "\n",
      "  param_max_depth              params  rank_test_score  split0_test_score  \\\n",
      "0               1   {u'max_depth': 1}               10           0.426856   \n",
      "1               2   {u'max_depth': 2}                9           0.749249   \n",
      "2               3   {u'max_depth': 3}                8           0.844773   \n",
      "3               4   {u'max_depth': 4}                7           0.964178   \n",
      "4               5   {u'max_depth': 5}                6           0.976119   \n",
      "5               6   {u'max_depth': 6}                5           1.000000   \n",
      "6               7   {u'max_depth': 7}                1           1.000000   \n",
      "7               8   {u'max_depth': 8}                1           1.000000   \n",
      "8               9   {u'max_depth': 9}                1           1.000000   \n",
      "9              10  {u'max_depth': 10}                1           1.000000   \n",
      "\n",
      "   split0_train_score  split1_test_score       ...         split7_test_score  \\\n",
      "0            0.396832           0.450737       ...                  0.437106   \n",
      "1            0.759530           0.797011       ...                  0.724541   \n",
      "2            0.867808           0.886565       ...                  0.832329   \n",
      "3            0.963464           0.982089       ...                  0.934129   \n",
      "4            0.975422           0.994030       ...                  0.946106   \n",
      "5            1.000000           1.000000       ...                  1.000000   \n",
      "6            1.000000           1.000000       ...                  1.000000   \n",
      "7            1.000000           1.000000       ...                  1.000000   \n",
      "8            1.000000           1.000000       ...                  1.000000   \n",
      "9            1.000000           1.000000       ...                  1.000000   \n",
      "\n",
      "   split7_train_score  split8_test_score  split8_train_score  \\\n",
      "0            0.395705           0.377223            0.402346   \n",
      "1            0.762266           0.748494            0.759610   \n",
      "2            0.869180           0.832329            0.881133   \n",
      "3            0.966797           0.952094            0.952188   \n",
      "4            0.978750           0.964071            0.959492   \n",
      "5            1.000000           0.982035            0.984727   \n",
      "6            1.000000           1.000000            1.000000   \n",
      "7            1.000000           1.000000            1.000000   \n",
      "8            1.000000           1.000000            1.000000   \n",
      "9            1.000000           1.000000            1.000000   \n",
      "\n",
      "   split9_test_score  split9_train_score  std_fit_time  std_score_time  \\\n",
      "0           0.377223            0.402346      0.000418        0.000091   \n",
      "1           0.700588            0.764923      0.001166        0.000110   \n",
      "2           0.838318            0.868516      0.005112        0.000170   \n",
      "3           0.970059            0.962813      0.000515        0.000164   \n",
      "4           0.970059            0.976094      0.000626        0.000036   \n",
      "5           1.000000            1.000000      0.000483        0.000101   \n",
      "6           1.000000            1.000000      0.000317        0.000330   \n",
      "7           1.000000            1.000000      0.000277        0.000052   \n",
      "8           1.000000            1.000000      0.000068        0.000040   \n",
      "9           1.000000            1.000000      0.000319        0.004474   \n",
      "\n",
      "   std_test_score  std_train_score  \n",
      "0        0.046699         0.005188  \n",
      "1        0.040127         0.004458  \n",
      "2        0.029523         0.006091  \n",
      "3        0.018371         0.005590  \n",
      "4        0.018678         0.007661  \n",
      "5        0.008474         0.007230  \n",
      "6        0.000000         0.000000  \n",
      "7        0.000000         0.000000  \n",
      "8        0.000000         0.000000  \n",
      "9        0.000000         0.000000  \n",
      "\n",
      "[10 rows x 31 columns]\n"
     ]
    },
    {
     "data": {
      "text/plain": [
       "DecisionTreeClassifier(class_weight=None, criterion='gini', max_depth=7,\n",
       "            max_features=None, max_leaf_nodes=None,\n",
       "            min_impurity_split=1e-07, min_samples_leaf=1,\n",
       "            min_samples_split=2, min_weight_fraction_leaf=0.0,\n",
       "            presort=False, random_state=0, splitter='best')"
      ]
     },
     "execution_count": 178,
     "metadata": {},
     "output_type": "execute_result"
    }
   ],
   "source": [
    "# grid search for the best tree depth of the classifier\n",
    "reg = fit_model(X_train, y_train)\n",
    "reg.fit(X_train, y_train)"
   ]
  },
  {
   "cell_type": "code",
   "execution_count": 189,
   "metadata": {
    "collapsed": true
   },
   "outputs": [],
   "source": [
    "# save model\n",
    "Z = reg.predict(X_test)\n",
    "model = pickle.dumps(reg)\n",
    "# pickle.dump(reg, \"model.pk\")  # save to file on disk"
   ]
  },
  {
   "cell_type": "code",
   "execution_count": 191,
   "metadata": {
    "collapsed": false
   },
   "outputs": [
    {
     "data": {
      "text/markdown": [
       "\n",
       "|               | predict poisonous     | predict edible  |\n",
       "| ------------- |:---------------------:| ---------------:|\n",
       "|  poisonous    | 861                    |   0            |\n",
       "|  edible       | 0                    |   823            |\n",
       "\n"
      ],
      "text/plain": [
       "<IPython.core.display.Markdown object>"
      ]
     },
     "execution_count": 191,
     "metadata": {},
     "output_type": "execute_result"
    }
   ],
   "source": [
    "\"\"\" Confusion Matrix \"\"\"\n",
    "\n",
    "from IPython.display import Markdown\n",
    "\n",
    "\n",
    "cm = metrics.confusion_matrix(y_test, Z)\n",
    "\n",
    "Markdown(\"\"\"\n",
    "|               | predict poisonous     | predict edible  |\n",
    "| ------------- |:---------------------:| ---------------:|\n",
    "|  poisonous    | {}                    |   {}            |\n",
    "|  edible       | {}                    |   {}            |\n",
    "\n",
    "\"\"\".format(cm[0][0], cm[0][1], cm[1][0], cm[1][1]))\n"
   ]
  },
  {
   "cell_type": "code",
   "execution_count": 192,
   "metadata": {
    "collapsed": false
   },
   "outputs": [
    {
     "name": "stdout",
     "output_type": "stream",
     "text": [
      "r squared:1.0\n",
      "\n",
      "             precision    recall  f1-score   support\n",
      "\n",
      "          0       1.00      1.00      1.00       861\n",
      "          1       1.00      1.00      1.00       823\n",
      "\n",
      "avg / total       1.00      1.00      1.00      1684\n",
      "\n"
     ]
    }
   ],
   "source": [
    "\"\"\" Accuracy metrics\"\"\"\n",
    "\n",
    "print(\"{}:{}\\n\".format(\"r squared\", performance_metric(y_test, Z)))\n",
    "\n",
    "print(metrics.classification_report(y_test, Z))"
   ]
  },
  {
   "cell_type": "code",
   "execution_count": 193,
   "metadata": {
    "collapsed": false
   },
   "outputs": [
    {
     "name": "stdout",
     "output_type": "stream",
     "text": [
      "spore-print-color: 0.53\n",
      " ring-number: 0.16\n",
      "gill-size: 0.14\n",
      "gill-spacing: 0.05\n",
      "veil-color: 0.04\n",
      "bruises: 0.02\n",
      "stalk-root: 0.02\n",
      "cap-surface: 0.02\n",
      "odor: 0.01\n",
      "stalk-shape: 0.01\n",
      "stalk-surface-below-ring: 0.01\n",
      "population: 0.01\n",
      "habitat: 0.0\n"
     ]
    }
   ],
   "source": [
    "\"\"\"Relative importance of each feature in predicting the label\"\"\"\n",
    "\n",
    "feature_importances = reg.feature_importances_\n",
    "\n",
    "feature_importance = dict(zip(feature_importances, list(data)[1:]))\n",
    "fi_sorted = sorted(feature_importance.items(), key=operator.itemgetter(0), reverse=True)\n",
    "\n",
    "for score, feature in fi_sorted:\n",
    "    print(\"{}: {}\".format(feature, round(score, 2)))"
   ]
  },
  {
   "cell_type": "code",
   "execution_count": 194,
   "metadata": {
    "collapsed": false
   },
   "outputs": [
    {
     "data": {
      "text/plain": [
       "'Save Tree graph '"
      ]
     },
     "execution_count": 194,
     "metadata": {},
     "output_type": "execute_result"
    }
   ],
   "source": [
    "\"\"\"Save Tree graph \"\"\"\n",
    "\n",
    "#dot_data = StringIO()\n",
    "#export_graphviz(reg, out_file=\"dot.dot\", feature_names=list(data)[1:], class_names=[\"poisonous\", \"edible\"])\n",
    "#export_graphviz(reg, out_file=dot_data, feature_names=list(data)[1:], class_names=[\"poisonous\", \"edible\")\n",
    "# graph_ = pydot.graph_from_dot_data(dot_data.getvalue())\n",
    "# graph_.write_pdf(\"tree.pdf\")"
   ]
  },
  {
   "cell_type": "markdown",
   "metadata": {},
   "source": [
    "### Convert dot to pdf file"
   ]
  },
  {
   "cell_type": "code",
   "execution_count": null,
   "metadata": {
    "collapsed": false
   },
   "outputs": [],
   "source": [
    "%%bash\n",
    "dot -Tpdf dot.dot -o tree.pdf; open tree.pdf"
   ]
  }
 ],
 "metadata": {
  "anaconda-cloud": {},
  "kernelspec": {
   "display_name": "Python [conda env:ipykernel_py2]",
   "language": "python",
   "name": "conda-env-ipykernel_py2-py"
  },
  "language_info": {
   "codemirror_mode": {
    "name": "ipython",
    "version": 2
   },
   "file_extension": ".py",
   "mimetype": "text/x-python",
   "name": "python",
   "nbconvert_exporter": "python",
   "pygments_lexer": "ipython2",
   "version": "2.7.13"
  }
 },
 "nbformat": 4,
 "nbformat_minor": 1
}
